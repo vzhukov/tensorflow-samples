{
 "cells": [
  {
   "cell_type": "markdown",
   "metadata": {},
   "source": [
    "# Create, Train and Use a simple TensorFlow model\n",
    "\n",
    "Step-by-step guide will to understand the basic concepts and methods behind building models using TensorFlow.\n",
    "\n",
    "Blog Post: [TensorFlow. Create, Train and Use simple model](https://vitalyzhukov.com/en/tensorflow-create-train-and-use-simple-model)\n",
    "\n",
    "## Linear Regression\n",
    "\n",
    "To understand the basic mechanism behind TensorFlow, I use Celsius to Fahrenheit conversion formula:\n",
    "\n",
    "![Celsius to Fahrenheit Formula](formula.png)\n",
    "\n",
    "The relationship between Celsius (°C) and Fahrenheit (°F) temperatures is described by a simple linear function. In this equation, the Fahrenheit temperature is the dependent variable, while the Celsius temperature is the independent variable. The constants in the equation are the gradient (9/5) and the intercept (32).\n",
    "\n",
    "Using TensorFlow, we can create a model to predict the Fahrenheit temperature based on the Celsius temperature.\n",
    "\n",
    "# Prerequisites\n",
    "\n",
    "To work with TensorFlow models, you will need two libraries open-source Python libraries: NumPy (Numerical Python) and TensorFlow."
   ]
  },
  {
   "cell_type": "code",
   "execution_count": null,
   "metadata": {},
   "outputs": [],
   "source": [
    "!pip install tensorflow\n",
    "!pip install tensorflow\n",
    "!pip install matplotlib"
   ]
  },
  {
   "cell_type": "markdown",
   "metadata": {},
   "source": [
    "Let's import the required packages:"
   ]
  },
  {
   "cell_type": "code",
   "execution_count": null,
   "metadata": {},
   "outputs": [],
   "source": [
    "# Import TensorFlow\n",
    "import tensorflow as tf\n",
    "# Import numpy\n",
    "import numpy as np\n",
    "# Import Matplotlib for Visualization purpose\n",
    "import matplotlib.pyplot as plt"
   ]
  },
  {
   "cell_type": "markdown",
   "metadata": {},
   "source": [
    "## Dataset  \n",
    "\n",
    "To train the model, we need a dataset that includes input data and corresponding output. For this purpose, let’s use the values from 0 to 15 degrees Celsius and their corresponding values in Fahrenheit.\n"
   ]
  },
  {
   "cell_type": "code",
   "execution_count": null,
   "metadata": {},
   "outputs": [],
   "source": [
    "# Independent variables\n",
    "temp_c = []\n",
    "\n",
    "# Dependent variables\n",
    "temp_f = []\n",
    "\n",
    "# Fill the arrays with calculated values\n",
    "for c in range(0, 16):\n",
    "    f = 32 + 1.8 * c\n",
    "    temp_c.append(float(c))\n",
    "    temp_f.append(float(f))\n",
    "\n",
    "# Input array\n",
    "input_array = np.array(temp_c, dtype=float)\n",
    "\n",
    "# Correct values for the input array\n",
    "output_array = np.array(temp_f, dtype=float)"
   ]
  },
  {
   "cell_type": "markdown",
   "metadata": {},
   "source": [
    "We'll use these two lists to train our model."
   ]
  },
  {
   "cell_type": "markdown",
   "metadata": {},
   "source": [
    "# Model\n",
    "\n",
    "The following code creates a new sequential model:"
   ]
  },
  {
   "cell_type": "code",
   "execution_count": null,
   "metadata": {},
   "outputs": [],
   "source": [
    "model = tf.keras.Sequential()\n",
    "model.add(tf.keras.layers.Input(shape=[1]))\n",
    "model.add(tf.keras.layers.Dense(units=1))"
   ]
  },
  {
   "cell_type": "markdown",
   "metadata": {},
   "source": [
    "The model takes a single-dimensional array (temperature in Celsius) as input and produces a single-dimensional array (temperature in Fahrenheit) as output."
   ]
  },
  {
   "cell_type": "code",
   "execution_count": null,
   "metadata": {},
   "outputs": [],
   "source": [
    "model.compile(optimizer=tf.keras.optimizers.SGD(), loss=tf.keras.losses.MeanSquaredError())"
   ]
  },
  {
   "cell_type": "markdown",
   "metadata": {},
   "source": [
    "## Train the Model\n",
    "\n",
    "Now, we can train the model by specifying the number of iterations. An iteration is an entire cycle through the input and output data."
   ]
  },
  {
   "cell_type": "code",
   "execution_count": null,
   "metadata": {},
   "outputs": [],
   "source": [
    "model.fit(input_array, output_array, epochs=500)"
   ]
  },
  {
   "cell_type": "markdown",
   "metadata": {},
   "source": [
    "## Using the Model\n",
    "\n",
    "To use the model to predict values, we need to call the predict method and provide the input:"
   ]
  },
  {
   "cell_type": "code",
   "execution_count": null,
   "metadata": {},
   "outputs": [],
   "source": [
    "vals = []\n",
    "y_calculated = []\n",
    "\n",
    "for x in range(0, 200):\n",
    "    y = 32 + (9/5) * x\n",
    "    \n",
    "    # Temp in C\n",
    "    vals.append(float(x))\n",
    "    \n",
    "    # Temp in F\n",
    "    y_calculated.append(float(y))\n",
    "\n",
    "# Predicted temp in F\n",
    "y_predicted = model.predict(np.array(vals))\n",
    "\n",
    "y_predicted[:10]"
   ]
  },
  {
   "cell_type": "markdown",
   "metadata": {},
   "source": [
    "Visualize calculated and predicted values:"
   ]
  },
  {
   "cell_type": "code",
   "execution_count": null,
   "metadata": {},
   "outputs": [],
   "source": [
    "import matplotlib.pyplot as plt\n",
    "\n",
    "plt.plot(np.arange(0, 200), np.array(y_calculated), label = \"Calculated\") \n",
    "plt.plot(np.arange(0, 200), np.array(y_predicted), label = \"Predicted\") \n",
    "plt.xlabel(\"°C\")\n",
    "plt.ylabel(\"°F\")\n",
    "plt.legend() \n",
    "plt.show()"
   ]
  },
  {
   "cell_type": "markdown",
   "metadata": {},
   "source": [
    "## Save/Load Model\n",
    "\n",
    "You can save the entire model, including the architecture, weights, and optimizer state, by using the save method:"
   ]
  },
  {
   "cell_type": "code",
   "execution_count": null,
   "metadata": {},
   "outputs": [],
   "source": [
    "model.save(\"c_to_f_conversion.h5\")"
   ]
  },
  {
   "cell_type": "markdown",
   "metadata": {},
   "source": [
    "To load the saved model use the load_weights method:\n",
    "\n"
   ]
  },
  {
   "cell_type": "code",
   "execution_count": null,
   "metadata": {},
   "outputs": [],
   "source": [
    "from tensorflow.keras.models import load_model\n",
    "\n",
    "model = load_model(\"c_to_f_conversion.h5\")"
   ]
  },
  {
   "cell_type": "markdown",
   "metadata": {},
   "source": [
    "# Summary\n",
    "I hope this article will be helpful for beginners who want to gain practical experience with TensorFlow and learn the basics of creating and training machine learning models."
   ]
  }
 ],
 "metadata": {
  "kernelspec": {
   "display_name": "Python 3",
   "language": "python",
   "name": "python3"
  },
  "language_info": {
   "codemirror_mode": {
    "name": "ipython",
    "version": 3
   },
   "file_extension": ".py",
   "mimetype": "text/x-python",
   "name": "python",
   "nbconvert_exporter": "python",
   "pygments_lexer": "ipython3",
   "version": "3.12.3"
  }
 },
 "nbformat": 4,
 "nbformat_minor": 2
}
